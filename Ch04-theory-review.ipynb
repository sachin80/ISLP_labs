{
 "cells": [
  {
   "cell_type": "markdown",
   "metadata": {},
   "source": [
    "For many situations, the response variable is *qualitative*. Often, qualitative variables are referred to as *categorical*. The process for predicting a qualitative response is called **classification**. "
   ]
  },
  {
   "cell_type": "markdown",
   "metadata": {},
   "source": [
    "### $\\underline{\\text{Overview of Classification}}:$\n",
    "\n",
    "Like regression, in the classification setting we have a set of training observations $(x_1, y_1),\\dots, (x_n, y_n)$ that we can use to build a classifier. In this chapter, we learn how to build a model to predict *default* $Y$ for any given value of *balance* $X_1$ and *income* $X_2$.\n",
    "\n",
    "\n",
    "**Why not linear regression?**\n",
    "\n",
    "1. A regression method cannot accomodate a qualitative response with more than two classes. \n",
    "\n",
    "*Example* If we encode three diagnoses: $\\text{stroke}, \\text{drug overdose}, \\text{epileptic seizure}$ response variable as $Y$\n",
    "\n",
    "$$\n",
    "Y =     \n",
    "\\begin{cases}\n",
    "1 & \\text{if stroke;} \\\\\\\\\n",
    "2 & \\text{if drug overdose;} \\\\\\\\\n",
    "3 & \\text{if epileptic seizure;} \\\\\\\\\n",
    "\\end{cases}\n",
    "\\tag{1}\n",
    "$$\n",
    "\n",
    "we can use least squares to fit a linear model. However, this implies a false ordering and equal spacing between categories, which may not reflect reality. Linear regression isn’t appropriate when the response is qualitative with no natural numeric structure.\n",
    "\n",
    "2. A regression method will not provide meaningful estimates of $Pr(Y|X)$, even with just two classes. \n",
    "\n",
    "*Example* For a binary response, e.g.,\n",
    "\n",
    "$$\n",
    "Y =\n",
    "\\begin{cases}\n",
    "0 & \\text{if stroke} \\\\\n",
    "1 & \\text{if drug overdose}\n",
    "\\end{cases}\n",
    "$$\n",
    "\n",
    "we can fit a linear regression and predict drug overdose if $\\hat{Y} > 0.5$, stroke otherwise. This gives crude probability estimates, though some may fall outside $[0, 1]$."
   ]
  },
  {
   "cell_type": "markdown",
   "metadata": {},
   "source": [
    "### $\\underline{\\text{Logistic Regression:}}$"
   ]
  }
 ],
 "metadata": {
  "kernelspec": {
   "display_name": "venv",
   "language": "python",
   "name": "python3"
  },
  "language_info": {
   "name": "python",
   "version": "3.9.16"
  }
 },
 "nbformat": 4,
 "nbformat_minor": 2
}
