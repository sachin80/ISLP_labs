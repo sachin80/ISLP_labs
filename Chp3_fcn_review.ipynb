{
 "cells": [
  {
   "cell_type": "code",
   "execution_count": null,
   "metadata": {},
   "outputs": [],
   "source": []
  },
  {
   "cell_type": "code",
   "execution_count": null,
   "metadata": {},
   "outputs": [],
   "source": [
    "### Stats Models \n",
    "import statsmodels.api as sm    # imports the stats models \n",
    "from statsmodels.stats.outliers_influence \\\n",
    "import variance_inflation_factor as VIF     # import only a few items, keep namespace clean \n",
    "from statsmodels.stats.anova import anova_lm \n",
    "\n"
   ]
  }
 ],
 "metadata": {
  "kernelspec": {
   "display_name": "Python 3",
   "language": "python",
   "name": "python3"
  },
  "language_info": {
   "name": "python",
   "version": "3.9.19"
  }
 },
 "nbformat": 4,
 "nbformat_minor": 2
}
