{
 "cells": [
  {
   "cell_type": "code",
   "execution_count": 1,
   "metadata": {},
   "outputs": [
    {
     "ename": "NameError",
     "evalue": "name 'np' is not defined",
     "output_type": "error",
     "traceback": [
      "\u001b[0;31m---------------------------------------------------------------------------\u001b[0m",
      "\u001b[0;31mNameError\u001b[0m                                 Traceback (most recent call last)",
      "Cell \u001b[0;32mIn[1], line 3\u001b[0m\n\u001b[1;32m      1\u001b[0m \u001b[38;5;66;03m### Python \u001b[39;00m\n\u001b[1;32m      2\u001b[0m \u001b[38;5;28mdir\u001b[39m()                       \u001b[38;5;66;03m# returns a list of objects in the namespace \u001b[39;00m\n\u001b[0;32m----> 3\u001b[0m A \u001b[38;5;241m=\u001b[39m \u001b[43mnp\u001b[49m\u001b[38;5;241m.\u001b[39marray([\u001b[38;5;241m3\u001b[39m, \u001b[38;5;241m5\u001b[39m, \u001b[38;5;241m11\u001b[39m])    \n\u001b[1;32m      4\u001b[0m \u001b[38;5;28mdir\u001b[39m(A)                      \u001b[38;5;66;03m# returns object 'A' namespace, including attributes, and any method associated with object\u001b[39;00m\n",
      "\u001b[0;31mNameError\u001b[0m: name 'np' is not defined"
     ]
    }
   ],
   "source": [
    "### Python \n",
    "dir()                       # returns a list of objects in the namespace \n",
    "A = np.array([3, 5, 11])    \n",
    "dir(A)                      # returns object 'A' namespace, including attributes, and any method associated with object"
   ]
  },
  {
   "cell_type": "code",
   "execution_count": null,
   "metadata": {},
   "outputs": [],
   "source": [
    "import numpy as np\n",
    " "
   ]
  },
  {
   "cell_type": "code",
   "execution_count": null,
   "metadata": {},
   "outputs": [],
   "source": [
    "### Stats Models \n",
    "import statsmodels.api as sm    # imports the stats models \n",
    "from statsmodels.stats.outliers_influence \\\n",
    "import variance_inflation_factor as VIF     # import only a few items, keep namespace clean \n",
    "from statsmodels.stats.anova import anova_lm \n",
    "\n"
   ]
  },
  {
   "cell_type": "code",
   "execution_count": null,
   "metadata": {},
   "outputs": [
    {
     "ename": "SyntaxError",
     "evalue": "invalid syntax (2273610293.py, line 7)",
     "output_type": "error",
     "traceback": [
      "\u001b[0;36m  Cell \u001b[0;32mIn[3], line 7\u001b[0;36m\u001b[0m\n\u001b[0;31m    Boston?                         # find out more about the Boston dataset\u001b[0m\n\u001b[0m          ^\u001b[0m\n\u001b[0;31mSyntaxError\u001b[0m\u001b[0;31m:\u001b[0m invalid syntax\n"
     ]
    }
   ],
   "source": [
    "### Building models using modelspec\n",
    "import pandas as pd \n",
    "from ISLP import load_data      # function for loading data \n",
    "from ISLP.models import (ModelSpec as MS, \n",
    "                         summarize, \n",
    "                         poly)  # use ModelSpec to construct design matrices   \n",
    "Boston  = load_data(\"Boston\")\n",
    "Boston?                         # find out more about the Boston dataset\n",
    "Boston.columns                  # returns the column names \n",
    "X = pd.DataFrame({'intercept': np.ones(Boston.shape[0]), \n",
    "                  'lstat': Boston['lstat']})    # create model matrix with single predictor\n",
    "y = Boston['medv']          # create response vector \n",
    "model = sm.OLS(y, X)        # specify OLS model using stats model \n",
    "results = model.fit()       # fit model using least squares? stats model \n",
    "summarize(results)          # return coef, std err, t, |P| . T, using ISLP function       \n",
    "design = MS(['lstat'])      # Use model spec to create design matrix\n",
    "design = design.fit(Boston) # checks if 'lstat' specified in design exists in dataset\n",
    "X = design.transform(Boston)# construct model matrix with 2 cols: intercept and lstat\n",
    "results.summary()           # returns exhaustive summary of the fit \n",
    "results.params              # returns the fitted coefficients \n",
    "new_df = pd.DataFrame({'lstat': [5, 10, 15]}) # new dataframe for predictions \n",
    "newX = design.transform(new_df) # new model matrix to make predictions \n",
    "new_predictions = results.get_prediction(newX)  # compute predictions using new model \n",
    "new_predictions.predicted_mean                  # return (3,) predicted mean \n",
    "new_predictions.conf_int(alpha=0.05)            # return (3,3) 95% confidence intervals for predicted values \n",
    "new_predictions.conf_int(obs=True, alpha=0.05)  # return (3,3) prediction intervals setting obs=True\n",
    "infl = results.get_influence()  # returns influence matrix\n",
    "infl.hat_matrix_diag            # returns leverage stats\n",
    "np.argmax(infl.hat_matrix_diag) # identifies index of largest element/leverage stat \n",
    "terms = Boston.columns.drop('medv') # fit on all predictos and drop medv\n",
    "X = MS(terms).fit_transform(Boston)\n",
    "model = sm.OLS(y, X)            # multiple OLS model \n",
    "results = model.fit()\n",
    "summarize(results)\n",
    "results.rsquared()              # returns R^2 \n",
    "np.sqrt(results.scale)          # returns RSE\n",
    "vals = [VIF(X, i) \n",
    "         for i in range(1, X.shape[1])] \n",
    "vif = pd.DataFrame({'vif':vals}, \n",
    "                   index = X.columns[1:])   # calculate vif, assessing collinearity in model \n",
    "X = MS(['lstat', \n",
    "        'age',\n",
    "        ('lstat', 'age')]).fit_transform(Boston)    # include interaction term predictor in modelspec\n",
    "\n",
    "model2 = sm.OLS(y, X)\n",
    "results2 = model2.fit()\n",
    "summarize(results2)\n",
    "\n",
    "X = MS([poly('lstat', degree=2)], 'age').fit_transform(Boston) # include polynomial function \n",
    "model3 = sm.OLS(y, X)\n",
    "results3 = model3.fit()\n",
    "summarize(results3)\n",
    "\n",
    "anova_lm(results, results3)    # use anova_lm to quantify extent to which fit is better \n",
    "Carseats = load_data('Carseats')\n",
    "Carseats.columns    # ModelSpec() will automatically generate dummy variable for categorical feature \n",
    "# Look at example for Carseats. "
   ]
  },
  {
   "cell_type": "code",
   "execution_count": null,
   "metadata": {},
   "outputs": [],
   "source": [
    "### Matplotlib \n",
    "# ax - axis object for existing plot \n",
    "# b - intercept \n",
    "# m - slope of desired line \n",
    "# *args - allows for any num of args to ax.plot\n",
    "# **kwargs - allows for any num of named args (like linewidth=3)\n",
    "from matplotlib.pyplot import subplots \n",
    "def abline(ax, b, m, *args, **kwargs): \n",
    "    \"Adds a line with slope m and intercept b to ax\" \n",
    "    xlim = ax.get_xlim()\n",
    "    ylim = [m * xlim[0] + b, m * xlim[1] + b]\n",
    "    ax.plot(xlim, ylim, *args, **kwargs)\n",
    "\n",
    "ax = Boston.plot.scatter('lstat', 'medv')\n",
    "abline(ax, \n",
    "       results.params[0], \n",
    "       results.params[1], \n",
    "       'r--', \n",
    "       linewidth=3)\n",
    "ax = subplots(figsize=(8, 8))[1]\n",
    "ax.scatter(results.fittedvalues, results.resid) #fitted vals vs. residuls of fit\n",
    "ax.axhline(0, c='k', ls='--')   # adds horizonatl line, color black, linestyle dashed\n",
    "\n"
   ]
  }
 ],
 "metadata": {
  "kernelspec": {
   "display_name": "Python 3",
   "language": "python",
   "name": "python3"
  },
  "language_info": {
   "codemirror_mode": {
    "name": "ipython",
    "version": 3
   },
   "file_extension": ".py",
   "mimetype": "text/x-python",
   "name": "python",
   "nbconvert_exporter": "python",
   "pygments_lexer": "ipython3",
   "version": "3.9.19"
  }
 },
 "nbformat": 4,
 "nbformat_minor": 2
}
