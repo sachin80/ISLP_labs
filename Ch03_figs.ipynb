{
 "cells": [
  {
   "cell_type": "code",
   "execution_count": 1,
   "metadata": {},
   "outputs": [],
   "source": [
    "import numpy as np \n",
    "import pandas as pd \n",
    "from matplotlib.pyplot import subplots\n",
    "import statsmodels.api as sm\n",
    "from statsmodels.stats.outliers_influence \\\n",
    "import variance_inflation_factor as VIF\n",
    "from statsmodels.stats.anova import anova_lm \n",
    "from ISLP import load_data \n",
    "from ISLP.models import (ModelSpec as MS, \n",
    "                         summarize, \n",
    "                         poly)"
   ]
  },
  {
   "cell_type": "code",
   "execution_count": 2,
   "metadata": {},
   "outputs": [],
   "source": [
    "# *args allows any number of non-names args to abline\n",
    "# **kwargs allows any number of named args (like linewidth=3)\n",
    "def abline(ax, b, m, *args, **kwargs):\n",
    "    \"Add a line with slope m and intercept b to ax\"\n",
    "    xlim = ax.get_xlim()\n",
    "    ylim = [m * xlim[0] + b, m * xlim[1] + b]\n",
    "    ax.plot(xlim, ylim, *args, **kwargs)"
   ]
  },
  {
   "cell_type": "code",
   "execution_count": 3,
   "metadata": {},
   "outputs": [
    {
     "data": {
      "image/png": "[encoded data removed]",
      "text/plain": [
       "<Figure size 640x480 with 1 Axes>"
      ]
     },
     "metadata": {},
     "output_type": "display_data"
    }
   ],
   "source": [
    "from pathlib import Path \n",
    "# get current working directory \n",
    "path_to_data = Path.cwd() / 'data'\n",
    "file = 'Advertising.csv'\n",
    "advertising = pd.read_csv(path_to_data/file)\n",
    "# terms = advertising.columns.drop(['sales', 'Unnamed: 0'])\n",
    "X = MS(['TV']).fit_transform(advertising)\n",
    "y = advertising['sales']\n",
    "model = sm.OLS(y, X)\n",
    "results = model.fit()\n",
    "ax = advertising.plot.scatter('TV', 'sales', c='red')\n",
    "abline(ax, \n",
    "       results.params.iloc[0], \n",
    "       results.params.iloc[1], \n",
    "       'b-', \n",
    "       linewidth=3)\n",
    "# Plot the residuals\n",
    "y_pred = results.fittedvalues\n",
    "for x, y_actual, y_hat in zip(advertising['TV'], y, y_pred):\n",
    "    ax.plot([x, x], [y_actual, y_hat], color='gray', linewidth=0.7, alpha=0.9)"
   ]
  },
  {
   "cell_type": "markdown",
   "metadata": {},
   "source": [
    "***Figure 3.1.***: For the advertising data, the least squares fit for the regression of sales onto TV. Each grey line segment is a residual. "
   ]
  },
  {
   "cell_type": "markdown",
   "metadata": {},
   "source": [
    "### Broadcasting review: \n",
    "When performing operations on two arrays, NumPy compares their shapes right to left:\n",
    "\n",
    "1. If the dimensions match (or either is 1), they are compatible.\n",
    "\n",
    "2. If the dimensions don't match and neither is 1, broadcasting fails.\n",
    "\n",
    "NumPy virtually stretches any dimension of size 1 to match the other"
   ]
  },
  {
   "cell_type": "code",
   "execution_count": 4,
   "metadata": {},
   "outputs": [
    {
     "data": {
      "text/plain": [
       "array([11, 12, 13])"
      ]
     },
     "execution_count": 4,
     "metadata": {},
     "output_type": "execute_result"
    }
   ],
   "source": [
    "# Ex. 1 \n",
    "x = np.array([1, 2, 3])\n",
    "x + 10  # Scalar gets broadcast -> [11, 12, 13]"
   ]
  },
  {
   "cell_type": "code",
   "execution_count": 5,
   "metadata": {},
   "outputs": [
    {
     "data": {
      "text/plain": [
       "array([[11, 21, 31],\n",
       "       [12, 22, 32],\n",
       "       [13, 23, 33]])"
      ]
     },
     "execution_count": 5,
     "metadata": {},
     "output_type": "execute_result"
    }
   ],
   "source": [
    "# Ex. 2 \n",
    "a = np.array([[1], [2], [3]])   # (3,1)\n",
    "b = np.array([10, 20, 30])      # (3,) same as (1,3)\n",
    "a + b                           # (3, 3)"
   ]
  },
  {
   "cell_type": "code",
   "execution_count": 18,
   "metadata": {},
   "outputs": [
    {
     "name": "stdout",
     "output_type": "stream",
     "text": [
      "The shape of \n",
      " [[1]\n",
      " [2]\n",
      " [3]] is \n",
      " (3, 1)\n",
      "The shape of [[10 20 30 40]] is (1, 4)\n",
      "The shape of outer \n",
      " [[ 10  20  30  40]\n",
      " [ 20  40  60  80]\n",
      " [ 30  60  90 120]] is \n",
      "(3, 4)\n"
     ]
    }
   ],
   "source": [
    "# Ex. 3 Adding singletons for broadcasting an outerproduct\n",
    "x = np.array([1, 2, 3])                                     # (3, )\n",
    "print(f\"The shape of \\n {x[:, None]} is \\n {x[:, None].shape}\") # (3,1)\n",
    "y = np.array([10, 20, 30, 40])                              # (4, )\n",
    "print(f\"The shape of {y[None, :]} is {y[None, :].shape}\")   # (1,4)\n",
    "outer = x[:, None] * y[None, :]                             # (3,1) * (1,4) -> (3,4)\n",
    "print(f\"The shape of outer \\n {outer} is \\n{outer.shape}\")"
   ]
  },
  {
   "cell_type": "code",
   "execution_count": null,
   "metadata": {},
   "outputs": [
    {
     "data": {
      "text/plain": [
       "50"
      ]
     },
     "execution_count": 16,
     "metadata": {},
     "output_type": "execute_result"
    }
   ],
   "source": [
    "import matplotlib.cm as cm \n",
    "# Let's create an array of equally spaced values around beta0, beta1\n",
    "beta0 = np.linspace(results.params.iloc[0] - 2, results.params.iloc[0] + 2, 50)\n",
    "beta1 = np.linspace(results.params.iloc[1] - 0.02, results.params.iloc[1] + 0.02, 50)\n",
    "b0, b1 = np.meshgrid(beta0, beta1)\n",
    "rss = np.zeros(b0.shape[0], b1.shape[0])\n"
   ]
  },
  {
   "cell_type": "code",
   "execution_count": 9,
   "metadata": {},
   "outputs": [
    {
     "data": {
      "text/plain": [
       "['HC0_se',\n",
       " 'HC1_se',\n",
       " 'HC2_se',\n",
       " 'HC3_se',\n",
       " '_HCCM',\n",
       " '__class__',\n",
       " '__delattr__',\n",
       " '__dict__',\n",
       " '__dir__',\n",
       " '__doc__',\n",
       " '__eq__',\n",
       " '__format__',\n",
       " '__ge__',\n",
       " '__getattribute__',\n",
       " '__gt__',\n",
       " '__hash__',\n",
       " '__init__',\n",
       " '__init_subclass__',\n",
       " '__le__',\n",
       " '__lt__',\n",
       " '__module__',\n",
       " '__ne__',\n",
       " '__new__',\n",
       " '__reduce__',\n",
       " '__reduce_ex__',\n",
       " '__repr__',\n",
       " '__setattr__',\n",
       " '__sizeof__',\n",
       " '__str__',\n",
       " '__subclasshook__',\n",
       " '__weakref__',\n",
       " '_abat_diagonal',\n",
       " '_cache',\n",
       " '_data_attr',\n",
       " '_data_in_cache',\n",
       " '_get_robustcov_results',\n",
       " '_get_wald_nonlinear',\n",
       " '_is_nested',\n",
       " '_transform_predict_exog',\n",
       " '_use_t',\n",
       " '_wexog_singular_values',\n",
       " 'aic',\n",
       " 'bic',\n",
       " 'bse',\n",
       " 'centered_tss',\n",
       " 'compare_f_test',\n",
       " 'compare_lm_test',\n",
       " 'compare_lr_test',\n",
       " 'condition_number',\n",
       " 'conf_int',\n",
       " 'conf_int_el',\n",
       " 'cov_HC0',\n",
       " 'cov_HC1',\n",
       " 'cov_HC2',\n",
       " 'cov_HC3',\n",
       " 'cov_kwds',\n",
       " 'cov_params',\n",
       " 'cov_type',\n",
       " 'df_model',\n",
       " 'df_resid',\n",
       " 'eigenvals',\n",
       " 'el_test',\n",
       " 'ess',\n",
       " 'f_pvalue',\n",
       " 'f_test',\n",
       " 'fittedvalues',\n",
       " 'fvalue',\n",
       " 'get_influence',\n",
       " 'get_prediction',\n",
       " 'get_robustcov_results',\n",
       " 'info_criteria',\n",
       " 'initialize',\n",
       " 'k_constant',\n",
       " 'llf',\n",
       " 'load',\n",
       " 'model',\n",
       " 'mse_model',\n",
       " 'mse_resid',\n",
       " 'mse_total',\n",
       " 'nobs',\n",
       " 'normalized_cov_params',\n",
       " 'outlier_test',\n",
       " 'params',\n",
       " 'predict',\n",
       " 'pvalues',\n",
       " 'remove_data',\n",
       " 'resid',\n",
       " 'resid_pearson',\n",
       " 'rsquared',\n",
       " 'rsquared_adj',\n",
       " 'save',\n",
       " 'scale',\n",
       " 'ssr',\n",
       " 'summary',\n",
       " 'summary2',\n",
       " 't_test',\n",
       " 't_test_pairwise',\n",
       " 'tvalues',\n",
       " 'uncentered_tss',\n",
       " 'use_t',\n",
       " 'wald_test',\n",
       " 'wald_test_terms',\n",
       " 'wresid']"
      ]
     },
     "execution_count": 9,
     "metadata": {},
     "output_type": "execute_result"
    }
   ],
   "source": [
    "dir(results)"
   ]
  },
  {
   "cell_type": "markdown",
   "metadata": {},
   "source": [
    "***Figure 3.2.*** Contour and three-dimensional plots of the RSS on the\n",
    "Advertising data, using sales as the response and TV as the predictor. The\n",
    "red dots correspond to the least squares estimates $\\beta_0$ and $\\beta_1$."
   ]
  }
 ],
 "metadata": {
  "kernelspec": {
   "display_name": "venv",
   "language": "python",
   "name": "python3"
  },
  "language_info": {
   "codemirror_mode": {
    "name": "ipython",
    "version": 3
   },
   "file_extension": ".py",
   "mimetype": "text/x-python",
   "name": "python",
   "nbconvert_exporter": "python",
   "pygments_lexer": "ipython3",
   "version": "3.9.16"
  }
 },
 "nbformat": 4,
 "nbformat_minor": 2
}
