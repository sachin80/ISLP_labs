{
 "cells": [
  {
   "cell_type": "markdown",
   "id": "d7040b8e",
   "metadata": {},
   "source": [
    "### End of Chapter Conceptual Questions"
   ]
  },
  {
   "cell_type": "markdown",
   "id": "41917854",
   "metadata": {},
   "source": [
    "1. Using a little bit of algebra, prove that (4.2) is equivalent to (4.3). In\n",
    "other words, the logistic function representation and logit representation for the logistic regression model are equivalent."
   ]
  },
  {
   "cell_type": "markdown",
   "id": "e8fd74cd",
   "metadata": {},
   "source": [
    "1. Answer: \n",
    "\n",
    "$$p(X) = \\frac{e^{{\\beta}_0 + {\\beta}_1X}}{1 + e^{{\\beta}_0 + {\\beta}_1X}}.$$\n",
    "\n",
    "$$\\begin{align*}\n",
    "1 - p(X) &= 1 - \\frac{e^{{\\beta}_0 + {\\beta}_1X}}{1 + e^{{\\beta}_0 + {\\beta}_1X}} \\\\\n",
    "        &= \\frac{{1 + e^{{\\beta}_0 + {\\beta}_1X}}}{{1 + e^{{\\beta}_0 + {\\beta}_1X}}} - \\frac{e^{{\\beta}_0 + {\\beta}_1X}}{1 + e^{{\\beta}_0 + {\\beta}_1X}} \\\\\n",
    "        &= \\frac{1}{1 + e^{{\\beta}_0 + {\\beta}_1X}}. \n",
    "\\end{align*}$$\n",
    "\n",
    "$$\\begin{align*}\n",
    "\\frac{p(X)}{1 - p(X)} &= \\frac{e^{{\\beta}_0 + {\\beta}_1X}}{1 + e^{{\\beta}_0 + {\\beta}_1X}} \\cdot {1 + e^{{\\beta}_0 + {\\beta}_1X}} \\\\\n",
    " &= {e^{{\\beta}_0 + {\\beta}_1X}}.\n",
    "\\end{align*}$$\n",
    "\n",
    "$$\\begin{align*}\n",
    "\\log \\left( \\frac{p(X)}{1 - p(X)}\\right) &=\\log \\left(e^{{\\beta}_0 + {\\beta}_1X}\\right) \\\\\n",
    "&={\\beta}_0 + {\\beta}_1X.\n",
    "\\end{align*}$$"
   ]
  },
  {
   "cell_type": "markdown",
   "id": "d8b5b757",
   "metadata": {},
   "source": [
    "2. It was stated in the text that classifying an observation to the class\n",
    "for which (4.17) is largest is equivalent to classifying an observation\n",
    "to the class for which (4.18) is largest. Prove that this is the case. In\n",
    "other words, under the assumption that the observations in the kth\n",
    "class are drawn from a $\\N (\\mu_k , \\sigma^2)$ distribution, the Bayes classifier\n",
    "assigns an observation to the class for which the discriminant function\n",
    "is maximized."
   ]
  },
  {
   "cell_type": "markdown",
   "id": "58dac79a",
   "metadata": {},
   "source": [
    "3. This problem relates to the QDA model, in which the observations\n",
    "within each class are drawn from a normal distribution with a class-\n",
    "specific mean vector and a class specific covariance matrix. We con-\n",
    "sider the simple case where $p = 1$; i.e. there is only one feature.\n",
    "Suppose that we have $K$ classes, and that if an observation belongs\n",
    "to the kth class then $X$ comes from a one-dimensional normal dis-\n",
    "tribution, $X∼ N(\\mu_k , \\sigma_k^2)$. Recall that the density function for the\n",
    "one-dimensional normal distribution is given in (4.16). Prove that in\n",
    "this case, the Bayes classifier is not linear. Argue that it is in fact\n",
    "quadratic. Hint: For this problem, you should follow the arguments laid out in\n",
    "Section 4.4.1, but without making the assumption that $\\sigma_1^2= · · · = \\sigma_K^2$."
   ]
  },
  {
   "cell_type": "markdown",
   "id": "02968435",
   "metadata": {},
   "source": [
    "4. When the number of features p is large, there tends to be a deteri-\n",
    "oration in the performance of KNN and other local approaches that\n",
    "perform prediction using only observations that are near the test observation for \n",
    "which a prediction must be made. This phenomenon is\n",
    "known as the curse of dimensionality, and it ties into the fact that \n",
    "non-parametric approaches often perform poorly when $p$ is large. We\n",
    " will now investigate this curse.\n",
    "\n",
    "    a) Suppose that we have a set of observations, each with measure-\n",
    "ments on $p = 1$ feature, $X$. We assume that $X$ is uniformly\n",
    "(evenly) distributed on $[0, 1]$. Associated with each observation\n",
    "is a response value. Suppose that we wish to predict a test obser-\n",
    "vation’s response using only observations that are within $10%$ of\n",
    "the range of $X$ closest to that test observation. For instance, in\n",
    "order to predict the response for a test observation with $X = 0.6$,\n",
    "we will use observations in the range $[0.55, 0.65]$. On average,\n",
    "what fraction of the available observations will we use to make\n",
    "the prediction?\n",
    "\n",
    "    b) Now suppose that we have a set of observations, each with\n",
    "measurements on $p = 2$ features, $X_1$ and $X_2$. We assume that\n",
    "$(X_1, X_2)$ are uniformly distributed on $[0, 1] \\times [0, 1]$. We wish to\n",
    "predict a test observation’s response using only observations that\n",
    "are within $10%$ of the range of $X_1$ and within $10%$ of the range\n",
    "of $X_2$ closest to that test observation. For instance, in order to\n",
    "predict the response for a test observation with $X_1 = 0.6$ and\n",
    "$X_2 = 0.35$, we will use observations in the range $[0.55, 0.65]$ for\n",
    "$X_1$ and in the range $[0.3, 0.4]$ for $X_2$. On average, what fraction\n",
    "of the available observations will we use to make the prediction?\n",
    "\n",
    "    c) Now suppose that we have a set of observations on $p = 100$ \n",
    "    features. Again the observations are uniformly distributed on each\n",
    "feature, and again each feature ranges in value from 0 to 1. We\n",
    "wish to predict a test observation’s response using observations\n",
    "within the $10%$ of each feature’s range that is closest to that test\n",
    "observation. What fraction of the available observations will we\n",
    "use to make the prediction?\n",
    "\n",
    "    d) Using your answers to parts a)–c), argue that a drawback of\n",
    "KNN when $p$ is large is that there are very few training observations \n",
    "“near” any given test observation.\n",
    "\n",
    "    e) Now suppose that we wish to make a prediction for a test observation by \n",
    "    creating a $p$-dimensional hypercube centered around the test observation that \n",
    "    contains, on average, 10 % of the training observations. For $p = 1, 2, \\text{and}\\hspace{0.1cm} 100$ what is the length of each side of the hypercube? Comment on your answer.\n",
    "    Note: A hypercube is a generalization of a cube to an arbitrary\n",
    "    number of dimensions. When $p = 1$, a hypercube is simply a line\n",
    "    segment, when $p = 2$ it is a square, and when $p = 100$ it is a\n",
    "    100-dimensional cube."
   ]
  },
  {
   "cell_type": "markdown",
   "id": "deaf1c4a",
   "metadata": {},
   "source": [
    "5. We now examine the differences between LDA and QDA.\n",
    "\n",
    "    a) If the Bayes decision boundary is linear, do we expect LDA or\n",
    "    QDA to perform better on the training set? On the test set?\n",
    "    \n",
    "    b) If the Bayes decision boundary is non-linear, do we expect LDA\n",
    "    or QDA to perform better on the training set? On the test set?\n",
    "    \n",
    "    c) In general, as the sample size n increases, do we expect the test\n",
    "    prediction accuracy of QDA relative to LDA to improve, decline,\n",
    "    or be unchanged? Why?\n",
    "    \n",
    "    d) True or False: Even if the Bayes decision boundary for a given\n",
    "    problem is linear, we will probably achieve a superior test error rate \n",
    "    using QDA rather than LDA because QDA is flexible enough to model a linear \n",
    "    decision boundary. Justify your answer."
   ]
  },
  {
   "cell_type": "markdown",
   "id": "b64c35bb",
   "metadata": {},
   "source": [
    "6. Suppose we collect data for a group of students in a statistics class\n",
    "with variables X1 = hours studied, X2 = undergrad GPA, and Y=\n",
    "receive an A. We fit a logistic regression and produce estimated\n",
    "coefficient, $\\hat{\\beta}_0 =−6$, $\\hat{\\beta}_1 =0.05$, $\\hat{\\beta}_2 =1$.\n",
    "\n",
    "    a) Estimate the probability that a student who studies for 40 h and\n",
    "    has an undergrad GPA of 3.5 gets an A in the class.\n",
    "\n",
    "    b) How many hours would the student in part (a) need to study to\n",
    "    have a 50 % chance of getting an A in the class?"
   ]
  },
  {
   "cell_type": "markdown",
   "id": "c4a25824",
   "metadata": {},
   "source": [
    "7. Suppose that we wish to predict whether a given stock will issue a\n",
    "dividend this year (“Yes” or “No”) based on $X$, last year’s percent\n",
    "profit. We examine a large number of companies and discover that the\n",
    "mean value of $X$ for companies that issued a dividend was $\\bar{X} = 10$,\n",
    "while the mean for those that didn’t was $\\bar{X} = 0$. In addition, the\n",
    "variance of $X$ for these two sets of companies was $\\hat{\\sigma}^2 = 36$. \n",
    "Finally, $80 %$ of companies issued dividends. Assuming that $X$ follows a nor-\n",
    "mal distribution, predict the probability that a company will issue\n",
    "a dividend this year given that its percentage profit was $X = 4$ last\n",
    "year.\n",
    "\n",
    "Hint: Recall that the density function for a normal random variable\n",
    "is $f(x) = \\frac{1}{\\sqrt{2\\pi\\sigma^2}}e^{−(x−\\mu)^2/2\\sigma^2}$. \n",
    "You will need to use Bayes’ theorem."
   ]
  },
  {
   "cell_type": "markdown",
   "id": "f4819b4c",
   "metadata": {},
   "source": [
    "8. Suppose that we take a data set, divide it into equally-sized training\n",
    "and test sets, and then try out two different classification procedures.\n",
    "First we use logistic regression and get an error rate of 20 % on the\n",
    "training data and $30%$ on the test data. Next we use 1-nearest neigh-\n",
    "bors (i.e. $K = 1$) and get an average error rate (averaged over both\n",
    "test and training data sets) of $18%$. Based on these results, which\n",
    "method should we prefer to use for classification of new observations?\n",
    "Why?"
   ]
  },
  {
   "cell_type": "markdown",
   "id": "784a4aa2",
   "metadata": {},
   "source": [
    "9. This problem has to do with odds.\n",
    "    \n",
    "    a) On average, what fraction of people with an odds of 0.37 of\n",
    "    defaulting on their credit card payment will in fact default?\n",
    "    \n",
    "    b) Suppose that an individual has a 16 % chance of defaulting on\n",
    "    her credit card payment. What are the odds that she will default?"
   ]
  },
  {
   "cell_type": "markdown",
   "id": "8a26411e",
   "metadata": {},
   "source": [
    "10. Equation 4.32 derived an expression for $\\log(\\frac{Pr(Y=k|X=x)}{Pr(Y=K|X=x)})$ in the\n",
    "setting where $p > 1$, so that the mean for the $k$th class, $\\mu_k$ , is a $p$-\n",
    "dimensional vector, and the shared covariance $\\Sigma$ is a $p\\times p$ matrix.\n",
    "However, in the setting with $p = 1$, (4.32) takes a simpler form, since\n",
    "the means $\\mu_1, . . . ,\\mu_K$ and the variance $\\sigma^2$ are scalars. In this simpler\n",
    "setting, repeat the calculation in (4.32), and provide expressions for\n",
    "$a_k$ and $b_{kj}$ in terms of $\\pi_k$ , $\\pi_K$ , $\\mu_k$ , $\\mu_K$ , and $\\sigma^2$."
   ]
  },
  {
   "cell_type": "markdown",
   "id": "8f1c8056",
   "metadata": {},
   "source": [
    "11. Work out the detailed forms of $a_k$ , $b_{kj}$ , and $b_{kjl}$ in (4.33). Your answer\n",
    "should involve $\\pi_k$ , $\\pi_K$ , $\\mu_k$ , $\\mu_K$ , $\\Sigma_k$, and $\\Sigma_K$."
   ]
  },
  {
   "cell_type": "markdown",
   "id": "bf654b60",
   "metadata": {},
   "source": [
    "12. Suppose that you wish to classify an observation $X\\in \\R$ into apples\n",
    "    and oranges. You fit a logistic regression model and find that\n",
    "\n",
    "    $$\\hat{Pr}(Y=\\text{orange}|X= x) = \\frac{\\exp(\\hat{\\beta}_0 +\\hat{\\beta}_1x)}{1 + \\exp(\\hat{\\beta}_0 +\\hat{\\beta}_1x)}$$\n",
    "\n",
    "    Your friend fits a logistic regression model to the same data using the softmax formulation in (4.13), and finds that\n",
    "\n",
    "    $$Pr(Y=\\text{orange}|X= x) =\\frac{\\exp(\\hat{\\alpha}_{\\text{orange0}} + \\hat{\\alpha}_{\\text{orange1}}x)}{\\exp(\\hat{\\alpha}_{\\text{orange0}} + \\hat{\\alpha}_{\\text{orange1}}x) + \\exp(\\hat{\\alpha}_{\\text{apple0}} + \\hat{\\alpha}_{\\text{apple1}}x}$$\n",
    "\n",
    "    a) What is the log odds of orange versus apple in your model?\n",
    "\n",
    "    b) What is the log odds of orange versus apple in your friend’s model?\n",
    "    \n",
    "    c) Suppose that in your model, $\\hat{\\beta}_0 = 2$ and $\\hat{\\beta}_1 =−1$. What are\n",
    "    the coefficient estimates in your friend’s model? Be as specific as possible.\n",
    "    \n",
    "    d) Now suppose that you and your friend fit the same two models on a different data set. \n",
    "    This time, your friend gets the coefficient estimates $\\hat{\\alpha}_{\\text{orange0}} = 1.2$,$\\hat{\\alpha}_{\\text{orange1}}  =−2$,$\\hat{\\alpha}_{\\text{orange0}}  =3$,$\\hat{\\alpha}_{\\text{orange1}} =0.6$. What are the coefficient estimates in your model?\n",
    "    \n",
    "    e) Finally, suppose you apply both models from (d) to a data set with 2,000 test observations. What fraction of the time do you expect the predicted class labels from your model to agree with those from your friend’s model? Explain your answer."
   ]
  },
  {
   "cell_type": "markdown",
   "id": "9161400f",
   "metadata": {},
   "source": [
    "### Chapter 4 Quiz\n",
    "\n",
    "4.Q.1\n",
    "Which of the following tools would be well suited for predicting if a student will get an A in a class based on the student's height, and parents’ income? Select all that apply:\n",
    "- Linear Discriminant Analysis?\n",
    "- Linear Regression?\n",
    "- Logistic Regression\n",
    "- Random Guess"
   ]
  },
  {
   "cell_type": "markdown",
   "id": "4c22423e",
   "metadata": {},
   "source": [
    "Answer. Whether or not a student gets an A is a categorical variables. Thus, we should use a classification technique like LDA or Logistic Regression. For binary classification, linear regression and LDA are almost equivalent."
   ]
  }
 ],
 "metadata": {
  "kernelspec": {
   "display_name": "Python 3",
   "language": "python",
   "name": "python3"
  },
  "language_info": {
   "codemirror_mode": {
    "name": "ipython",
    "version": 3
   },
   "file_extension": ".py",
   "mimetype": "text/x-python",
   "name": "python",
   "nbconvert_exporter": "python",
   "pygments_lexer": "ipython3",
   "version": "3.9.19"
  }
 },
 "nbformat": 4,
 "nbformat_minor": 5
}
