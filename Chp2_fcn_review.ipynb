{
 "cells": [
  {
   "cell_type": "markdown",
   "metadata": {},
   "source": [
    "Python: \n",
    "print? - helper for function\n"
   ]
  },
  {
   "cell_type": "code",
   "execution_count": null,
   "metadata": {},
   "outputs": [],
   "source": [
    "### Numpy:\n",
    "import numpy as np \n",
    "x = np.array([1, 2, 3])         # creates an array with shape (3, )\n",
    "x.shape                         # returns the shape of array x  \n",
    "x = np.array([[1], [2], [3]])   # creates an array with shape (3, 1)\n",
    "x = np.array([1, 2, 3])         # creates an array with shape (1, 3)\n",
    "x = np.array([[1, 2], [3, 4]])  # creates an array with shape (2, 2)\n",
    "x.ndim                          # returns the number of dimensions of array x\n",
    "x.dtype                         # returns the type of array x \n",
    "np.array([[1, 2], [3, 4]], float).dtype     # changes the type to floating point\n",
    "x = np.array([1, 2, 3, 4, 5, 6])\n",
    "x.sum()                         # returns the sum of x \n",
    "np.sum(x)                       # returns the sum of x \n",
    "x_reshape = x.reshape(2, 3)     # returns an array with shape (2, 3)\n",
    "x_reshape[0, 0] = 5             # (0, 0) element of x_reshape and x to 0\n",
    "np.random.normal(size=50)       # returns (50,) array drawn from normal dist.\n",
    "rng = np.random.default_rng(1303)   # random number generator with seed 1303\n",
    "rng.normal(scale=5, size=2)     # returns (2, ) array drawn from normal dist\n",
    "rng.normal(scale=5, size=2)     # returns exactly the same (2, ) array\n",
    "y = rng.standard_normal(10)     # returns (10, ) array drawn from stand. normal\n",
    "y.mean()                        # returns mean of y\n",
    "np.mean(y)                      # also returns mean of y \n",
    "y.var()                         # returns the variance of y \n",
    "np.var(y)                       # same, divides sample size by n not n-1\n",
    "np.mean((y - y.mean())**2)      # same variance\n",
    "X = rng.standard_normal((10, 3))# returns a (10, 3) array of standard normal dist\n",
    "X.mean(axis=0)                  # returns the array with shape (3,)\n",
    "X.mean(0)                       # returns the same \n",
    "X.mean(axis=1)                  # returns the array with shape (10,)\n",
    "X.mean(1)                       # returns the same \n",
    "x = np.linspace(-np.pi, np.pi, 50) # returns (50,) array with [-pi, pi] incl\n",
    "y = x \n",
    "f = np.multiply.outer(np.cos(y), 1/(1 + x**2)) # outerproduct of arg1 and arg2\n",
    "my_str = \"hello world\"\n",
    "my_str[0:3]                     # returns indexes [0, 3)\n",
    "A = np.array(np.arange(16).reshape(4, 4))   # reshape to (4, 4)\n",
    "A[1, 2]                         # selects element a23\n",
    "A[[1, 3]]                       # selects rows 2 and 4 \n",
    "A[:, [0, 2]]                    # selects columns 1 and 3 \n",
    "A[[1, 3]][:, [0, 1]]        # returns submarix with rows 2, 4 and cols 1, 2\n",
    "A[np.ix_([0, 1], [0, 1])]   # does the same but better to use this function\n",
    "keep_rows = np.zeros(A.shape[0], bool)  # creates (4,) array of False\n",
    "keep_rows[[1, 3]] = True    # entries 2 and 4 are True \n",
    "np.all(keep_rows == np.array([0, 1, 0, 1])) # check whether all entries True\n",
    "A[[0, 1, 0, 1]]     # returns (4, 4) array with row 1, row 2, row 1, row 2\n",
    "A[keep_rows]        # returns (2, 4) array with row 2, row 4\n",
    "keep_cols = np.zeros(A.shape[1], bool)\n",
    "keep_cols[[0, 2, 3]]=True # retrusn (4,) array with entries 1, 3, 4 True \n",
    "idx_bool = np.ix_(keep_rows, keep_cols)\n",
    "A[idx_bool]     # returns (2,3) array with row 2, row 4 and col 1, col 3, col 4\n",
    "A[np.ix_([1, 3], keep_cols)] # returns the same things ints and bools"
   ]
  },
  {
   "cell_type": "code",
   "execution_count": null,
   "metadata": {},
   "outputs": [],
   "source": [
    "### Matplotlib:\n",
    "from matplotlib.pyplot import subplots   # imports subplots from matplotlib\n",
    "fig, ax = subplots(figsize=(8,8))   # returns handles fig, ax for subplots \n",
    "ax.plot(x, y)                       # lineplot for x vs. y \n",
    "ax.plot(x, y, 'o')                  # scatterplot for x vs. y\n",
    "ax.scatter(x, y, marker='o')        # same \n",
    "fig.set_size_inches(12, 3)          # change the size of the figure\n",
    "fig, axes = subplots(nrows=2, ncols=3, figsize=(15, 5)) # 2 by 3 subplots\n",
    "axes[0, 1].plot(x, y, 'o')          # scatterplots in subplot (0, 1)\n",
    "fig                                 # display figure \n",
    "fig.savefig('Figure.png', dpi=400)  # saves fig as png, dpi = 400\n",
    "fig.savefig('Figure.pdf', dpi=200); # save as pdf, restrict output to fig\n",
    "axes[0, 1].set_xlim([-1, 1])        # set xlim to [-1,1] for subplot (0, 1)\n",
    "ax.contour(x, y, f)                 # generates contour plot \n",
    "ax.contoru(x, y, f, levels=50)      # adds more levelsets to contour \n",
    "ax.imshow(f)                        # produces heatmap"
   ]
  },
  {
   "cell_type": "code",
   "execution_count": null,
   "metadata": {},
   "outputs": [],
   "source": [
    "### Pandas:\n",
    "import pandas as pd                 # imports pandas \n",
    "Auto = pd.read_csv('Auto.csv')      # reads in csv file \n",
    "Auto = pd.read_csv('Auto.data', delim_whitespace=True)  # whitespace delimited\n",
    "Auto['horsepower]']                 # returns 'horsepower' column\n",
    "np.unique(Auto['horsepower'])       # unique values, check if na values present\n",
    "Auto = pd.read_csv('Auto.data', \n",
    "                   na_values = ['?'],\n",
    "                   delim_whitespace=True)   # replaces '?' with np.nan\n",
    "Auto['horsepower'].sum()            # can sum across columns \n",
    "Auto.shape                          # returns (#observations, #predictors/features)\n",
    "Auto_new = Auto.dropna()            # drops np.nan observations (rows)\n",
    "Auto = Auto_new\n",
    "Auto.columns                        # returns columns of data \n",
    "A[:3]                               # returns rows 1-3\n",
    "idx_80 = Auto['year'] > 90          \n",
    "Auto[idx_80]                        # returns autos built after 1980\n",
    "# TODO: leftoff at cell 73\n"
   ]
  }
 ],
 "metadata": {
  "kernelspec": {
   "display_name": "Python 3",
   "language": "python",
   "name": "python3"
  },
  "language_info": {
   "name": "python",
   "version": "3.9.19"
  }
 },
 "nbformat": 4,
 "nbformat_minor": 2
}
