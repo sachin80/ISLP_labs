{
 "cells": [
  {
   "cell_type": "markdown",
   "id": "ea500543",
   "metadata": {},
   "source": [
    "Q. Run linear "
   ]
  }
 ],
 "metadata": {
  "kernelspec": {
   "display_name": "Python 3",
   "language": "python",
   "name": "python3"
  },
  "language_info": {
   "name": "python",
   "version": "3.9.19"
  }
 },
 "nbformat": 4,
 "nbformat_minor": 5
}
