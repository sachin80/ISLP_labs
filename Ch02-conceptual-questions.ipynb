{
 "cells": [
  {
   "cell_type": "markdown",
   "metadata": {},
   "source": [
    "## 2.4 Exercises "
   ]
  },
  {
   "cell_type": "markdown",
   "metadata": {},
   "source": [
    "### Conceptual"
   ]
  },
  {
   "cell_type": "markdown",
   "metadata": {},
   "source": [
    "1. For each of parts (a) through (d), indicate whether we would generally expect the performance of a flexible statistical learning method to be better or worse than an inflexible method. Justify your answer.\n",
    "\n",
    "    (a) The sample size n is extremely large, and the number of predictors p is small.\n",
    "\n",
    "    (b) The number of predictors p is extremely large, and the number of observations n is small.\n",
    "\n",
    "    (c) The relationship between the predictors and response is highly non-linear.\n",
    "\n",
    "    (d) The variance of the error terms, i.e. σ2 = Var(ϵ), is extremely high."
   ]
  },
  {
   "cell_type": "markdown",
   "metadata": {},
   "source": [
    "1. *Answer.* \n",
    "\n",
    "    1a. A more flexible model is good because $n$ is large then we have many observations. A more flexible model will have lower bias but higher variance and because you have many observations and few predictors you can afford higher variance since you have enough data to reliably estimate the model parameters and less risk of overfitting. \n",
    "\n",
    "    1b. A more flexible model is bad because $n$ is small then we have less observations. A more flexible model will risk overfitting the data since there might not be enough data points to reliably estimate all the parameters. Usually, it's better to use a less flexible model and most will resort to regularization or simplifying assumptions. \n",
    "\n",
    "    1c. A more flexible model is good since an inflexible model like a linear regression will not be able to fit a non-linear relationship. \n",
    "\n",
    "    1d. A more flexible model is probably bad since the variance is already high. "
   ]
  },
  {
   "cell_type": "markdown",
   "metadata": {},
   "source": [
    "2. Explain whether each scenario is a classification or regression problem, and indicate whether we are most interested in inference or prediction. Finally, provide n and p.\n",
    "\n",
    "    (a) We collect a set of data on the top 500 firms in the US. For each firm we record profit, number of employees, industry and the  CEO salary. We are interested in understanding which factors affect CEO salary.\n",
    "\n",
    "    (b) We are considering launching a new product and wish to know whether it will be a success or a failure. We collect data on 20 similar products that were previously launched. For each product we have recorded whether it was a success or failure, price charged for the product, marketing budget, competition price, and ten other variables.\n",
    "\n",
    "    (c) We are interested in predicting the % change in the USD/Euro exchange rate in relation to the weekly changes in the world stock markets. Hence we collect weekly data for all of 2012. For each week we record the % change in the USD/Euro, the % change in the US market, the % change in the British market, and the % change in the German market."
   ]
  },
  {
   "cell_type": "markdown",
   "metadata": {},
   "source": [
    "2. *Answer.* \n",
    "\n",
    "    2a. n = 500, p = 4. This is a regression because CEO salary is quanititative. This is an inference problem since we are interested in understanding what predictors affect the response or output. \n",
    "\n",
    "    2b. n = 20, p = 13. This is a classification problem and prediction. \n",
    "\n",
    "    2c. n = 52, p = 4. This is a regression problem since the percent change in USD/Euro exchange rate is a quantitative response. This is prediction problem since we are only intersted in the percent change. "
   ]
  },
  {
   "cell_type": "markdown",
   "metadata": {},
   "source": [
    "5. What are the advantages and disadvantages of a very flexible (versus\n",
    "a less flexible) approach for regression or classification? Under what\n",
    "circumstances might a more flexible approach be preferred to a less\n",
    "flexible approach? When might a less flexible approach be preferred?"
   ]
  },
  {
   "cell_type": "markdown",
   "metadata": {},
   "source": [
    "5. *Answer.* \n",
    "    Advantages for a flexible approach is that it might be better at capturing a more complex underlying pattern that is non-linear and has lower bias. As the flexibility of a model increases, understanding the contribution of each predictor becomes harder. Also, more flexible model require a lot of data. A less flexible approach is better if you don't have a lot data and the underlying function is linear. Also, they tend to be less likely to overfit. They are also more interpretable. But they have higher bias, may underfit, and be unable to capture more complex patterns.    "
   ]
  },
  {
   "cell_type": "markdown",
   "metadata": {},
   "source": [
    "6. Describe the differences between a parametric and a non-parametric statistical learning approach. What are the advantages of a parametric approach to regression or classification (as opposed to a non-parametric approach)? What are its disadvantages?"
   ]
  },
  {
   "cell_type": "markdown",
   "metadata": {},
   "source": [
    "6. *Answer.* \n",
    "    Parametric models - \n",
    "    Advantages - the estimating a pattern is reduced to estimating a set of parameters since. Model tends to be simpler leadingt o more interpretability.  \n",
    "    Disadvantages - may be too simple to estimate the underlying pattern. \n",
    "\n",
    "    Non-parametric models - \n",
    "    Advantages - makes no assumption on the underlying pattern, can fit potentially a wide variety of cases.    \n",
    "    Disadvantages - requires a lot more data, may lead to overfitting, and less interpretable. "
   ]
  },
  {
   "cell_type": "markdown",
   "metadata": {},
   "source": [
    "7. The table below provides a training data set containing six observa-\n",
    "tions, three predictors, and one qualitative response variable.\n",
    "\n",
    "$$\n",
    "\\begin{array}{c c c c c}\n",
    "\\hline\n",
    "\\text{Obs.} & X_1 & X_2 & X_3 & Y \\\\\n",
    "\\hline\n",
    "1 & 0  & 3 & 0 & \\text{Red} \\\\\n",
    "2 & 2  & 0 & 0 & \\text{Red} \\\\\n",
    "3 & 0  & 1 & 3 & \\text{Red} \\\\\n",
    "4 & 0  & 1 & 2 & \\text{Green} \\\\\n",
    "5 & -1 & 0 & 1 & \\text{Green} \\\\\n",
    "6 & 1  & 1 & 1 & \\text{Red} \\\\\n",
    "\\hline\n",
    "\\end{array}\n",
    "$$\n",
    "\n",
    "Suppose we wish to use this data set to make a prediction for Y when X1 = X2 = X3 = 0 using K-nearest neighbors.\n",
    "\n",
    "a) Compute the Euclidean distance between each observation and\n",
    "the test point, X1 = X2 = X3 = 0.\n",
    "\n",
    "b) What is our prediction with K = 1? Why?\n",
    "\n",
    "c) What is our prediction with K = 3? Why?\n",
    "\n",
    "d) If the Bayes decision boundary in this problem is highly non-\n",
    "linear, then would we expect the best value for K to be large or\n",
    "small? Why?"
   ]
  },
  {
   "cell_type": "markdown",
   "metadata": {},
   "source": [
    "7. *Answer.* If we have two points $p_1 = (x_1, y_1, z_1)$ and $p_2 = (x_1, y_2, z_2)$ then the Euclidean distance is \n",
    "\n",
    "    $$d_{21} = \\sqrt{(x_2 - x_1)^2 + (y_2 - y_1)^2 + (z_2 - z_1)^2}$$\n",
    "\n",
    "    a. \n",
    "    Obs 1: 3 -> R\n",
    "    Obs 2: 2 -> R\n",
    "    Obs 3: 3 -> R\n",
    "    Obs 4: sqrt(5) ~ 2.24 -> G\n",
    "    Obs 5: sqrt(2) ~ 1.41 -> G\n",
    "    Obs 6: sqrt(3) ~ 1.73 -> R\n",
    "\n",
    "    b. The prediction for K = 1 is G because the new observation is closest to Obs 5 data point, which is classified as G. \n",
    "\n",
    "    c. The prediction for K = 3 is R because Obs 2, Obs 5, and Obs 6 data points are closest by distance and 2/3 of the data points are R. \n",
    "\n",
    "    d. If we have a highly non-linear Bayes decision bounday, then a small K would be better because his corresponds to a more flexible model and finds a decisioin boundary that has more variance. "
   ]
  }
 ],
 "metadata": {
  "kernelspec": {
   "display_name": "Python 3",
   "language": "python",
   "name": "python3"
  },
  "language_info": {
   "codemirror_mode": {
    "name": "ipython",
    "version": 3
   },
   "file_extension": ".py",
   "mimetype": "text/x-python",
   "name": "python",
   "nbconvert_exporter": "python",
   "pygments_lexer": "ipython3",
   "version": "3.9.19"
  }
 },
 "nbformat": 4,
 "nbformat_minor": 2
}
