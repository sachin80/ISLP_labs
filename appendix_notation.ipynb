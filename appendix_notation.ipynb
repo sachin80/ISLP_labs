{
 "cells": [
  {
   "cell_type": "markdown",
   "id": "a414603b",
   "metadata": {},
   "source": [
    "### $\\text{Common symbols:}$\n",
    "\n",
    "$\\propto$ is can be used if $y=ax$ then $y \\propto x$.\n",
    "\n",
    "$\\Z_+$ is the positive integers. \n",
    "\n",
    "$\\R$is the real numbers. \n",
    "\n",
    "$\\R_+$ is the positive reals. \n",
    "\n",
    "$\\it{S}_K$ is the $K$-dimensional probability simplex. \n",
    "\n",
    "$\\it{S}_{++}^D$ is the cone of positve definite $D \\times D$ matrices. \n",
    "\n",
    "${1,\\dots, N}$ is the finite set ${1, 2, \\dots, N}$\n",
    "\n",
    "$1:N$ is the finite set ${1, 2,\\dots,N}$. \n",
    "\n",
    "$[l, u]$ is the continuous interval ${l\\leq x \\leq u}$."
   ]
  },
  {
   "cell_type": "markdown",
   "id": "84f88b21",
   "metadata": {},
   "source": [
    "### Functions: \n",
    "\n",
    "Functions of function use blackboard font e.g. $\\mathbb{H} (p)$, which is the entropy of a distribution $p$. \n",
    "\n",
    "Functions that are parameterized by fixed parameters $\\mathbf{\\theta}$ are denoted $f(\\bf{x}; \\bf{\\theta})$ or sometimes $f(\\bf{x}; \\bf{\\beta})$. These $\\theta$'s for a linear regression model are the same as \"weights\" in ml or in statistics they are called \"coefficients\". Sometimes this is denoted as $f_{\\theta}(\\bf{x})$.\n",
    "\n",
    "$\\mathbb{I}(x)$ is the *indicator function* where $\\mathbb{I}(x)=1$ if $x$ is true, else $\\mathbb{I}(x)=0$.\n",
    "\n",
    "$\\delta(x)$ is the *Dirac delta function* where $\\delta(x)=\\inf$ if $x=0$, else $\\delta(x)=0.$\n",
    "\n",
    "$\\vert S \\vert$ is the size or cardinality of a set. \n",
    "\n",
    "$\\Gamma(x)$ is the *gamma function* where $\\Gamma(x)=\\int^{\\infty}_{0} u^{x-1}e^{-u}du$.\n",
    "\n",
    "$\\sigma(x)$ is *sigmoid (logistic) function* where $\\sigma(x)=\\frac{1}{1+e^{-x}}.$\n",
    "\n",
    "$a \\wedge b$ is the logical AND. \n",
    "\n",
    "$\\it{B}(a, b)$ is the *beta function*, $\\it{B}(a, b)=\\frac{\\Gamma(a)\\Gamma(b)}{\\Gamma(a + b)}$\n",
    "\n",
    "$\\begin{pmatrix}\n",
    "n \\\\\n",
    "k\n",
    "\\end{pmatrix}$ is *$n$ choose $k$* where $n!/(k!(n-k)!)$.\n",
    "\n",
    "$\\delta_{ij}$ is the *Kronecker delta* which equals $\\mathbb{I}(i=j)$. \n",
    "\n",
    "$\\bf{u} \\odot \\bf{v}$ is *elementwise* product of two vectors. \n",
    "\n",
    "$\\bf{u} \\circledast \\bf{v}$ is the *convolution* of two vectors. \n",
    "\n",
    "$\\mathrm{softmax}(\\bf{x})$ is the *softmax function* where \n",
    "\n",
    "$$\\mathrm{softmax}(\\bf{x})=\\left[\n",
    "\\frac{\\exp\\bigl(x_c\\bigr)}{\\sum_{k=1}^{C}\\exp\\bigl(x_k\\bigr)}\n",
    "\\right]_{c=1}^{C}=\\begin{bmatrix}\n",
    "\\displaystyle \\frac{\\exp(x_1)}{\\sum_{k=1}^C \\exp(x_k)}\\\\[1em]\n",
    "\\displaystyle \\frac{\\exp(x_2)}{\\sum_{k=1}^C \\exp(x_k)}\\\\[1em]\n",
    "\\vdots\\\\[0.5em]\n",
    "\\displaystyle \\frac{\\exp(x_C)}{\\sum_{k=1}^C \\exp(x_k)}\n",
    "\\end{bmatrix}\n",
    "$$\n",
    "\n",
    "\n",
    "\n",
    "\n",
    "\n"
   ]
  },
  {
   "cell_type": "markdown",
   "id": "bca338f8",
   "metadata": {},
   "source": [
    "## Linear algebra: \n",
    "\n",
    "### Vectors:\n",
    "\n",
    "Vectors are assumed to be a column vectors, unless otherwise noted. \n",
    "\n",
    "Creating a $M \\times N$ matrix from a list of vectors we can write $X=[\\bf{x}_1,\\dots,\\bf{x}_N]$ if we stack along the columns or $X=[\\bf{x}_1;\\dots;\\bf{x}_M]$ is we stack along the rows. \n",
    "\n",
    "$\\bf{u} \\odot \\bf{v}$ is the elementwise product, $[u_1v_1,\\dots,u_Nv_N].$\n",
    "\n",
    "$||\\bf{v}||=||\\bf{v}||_2$ is the Euclidean norm of $L_2$ norm $\\sqrt{\\sum_{i=1}^N v_i^2}$\n",
    "\n",
    "$||\\bf{v}||_1$ is the $L_1$ norm $\\sum_{i=1}^N |v_i|$\n",
    "\n",
    "### Matrices: "
   ]
  },
  {
   "cell_type": "markdown",
   "id": "75defb29",
   "metadata": {},
   "source": []
  },
  {
   "cell_type": "markdown",
   "id": "c11356a5",
   "metadata": {},
   "source": []
  },
  {
   "cell_type": "markdown",
   "id": "a90b1d57",
   "metadata": {},
   "source": []
  },
  {
   "cell_type": "code",
   "execution_count": null,
   "id": "f5f5280b",
   "metadata": {
    "vscode": {
     "languageId": "plaintext"
    }
   },
   "outputs": [],
   "source": []
  },
  {
   "cell_type": "code",
   "execution_count": null,
   "id": "eee914d7",
   "metadata": {
    "vscode": {
     "languageId": "plaintext"
    }
   },
   "outputs": [],
   "source": []
  }
 ],
 "metadata": {
  "kernelspec": {
   "display_name": "Python 3",
   "language": "python",
   "name": "python3"
  },
  "language_info": {
   "name": "python",
   "version": "3.9.19"
  }
 },
 "nbformat": 4,
 "nbformat_minor": 5
}
