{
 "cells": [
  {
   "cell_type": "code",
   "execution_count": 1,
   "id": "d1aa6d82",
   "metadata": {},
   "outputs": [
    {
     "data": {
      "text/plain": [
       "'2.5.1'"
      ]
     },
     "execution_count": 1,
     "metadata": {},
     "output_type": "execute_result"
    }
   ],
   "source": [
    "# check Pytorch version \n",
    "import torch \n",
    "torch.__version__"
   ]
  },
  {
   "cell_type": "code",
   "execution_count": 2,
   "id": "1734cfec",
   "metadata": {},
   "outputs": [
    {
     "data": {
      "text/plain": [
       "tensor(7)"
      ]
     },
     "execution_count": 2,
     "metadata": {},
     "output_type": "execute_result"
    }
   ],
   "source": [
    "# scalar\n",
    "scalar = torch.tensor(7)\n",
    "scalar"
   ]
  },
  {
   "cell_type": "code",
   "execution_count": 3,
   "id": "07d74434",
   "metadata": {},
   "outputs": [
    {
     "data": {
      "text/plain": [
       "0"
      ]
     },
     "execution_count": 3,
     "metadata": {},
     "output_type": "execute_result"
    }
   ],
   "source": [
    "scalar.ndim"
   ]
  },
  {
   "cell_type": "code",
   "execution_count": 4,
   "id": "f6133129",
   "metadata": {},
   "outputs": [
    {
     "data": {
      "text/plain": [
       "7"
      ]
     },
     "execution_count": 4,
     "metadata": {},
     "output_type": "execute_result"
    }
   ],
   "source": [
    "# retrieve scalar value \n",
    "scalar.item()"
   ]
  },
  {
   "cell_type": "code",
   "execution_count": 5,
   "id": "6059a0fa",
   "metadata": {},
   "outputs": [
    {
     "data": {
      "text/plain": [
       "tensor([7, 7])"
      ]
     },
     "execution_count": 5,
     "metadata": {},
     "output_type": "execute_result"
    }
   ],
   "source": [
    "# vector \n",
    "vector = torch.tensor([7, 7])\n",
    "vector"
   ]
  },
  {
   "cell_type": "code",
   "execution_count": 6,
   "id": "492888c5",
   "metadata": {},
   "outputs": [
    {
     "data": {
      "text/plain": [
       "1"
      ]
     },
     "execution_count": 6,
     "metadata": {},
     "output_type": "execute_result"
    }
   ],
   "source": [
    "vector.ndim"
   ]
  },
  {
   "cell_type": "code",
   "execution_count": 8,
   "id": "fb4e1782",
   "metadata": {},
   "outputs": [
    {
     "data": {
      "text/plain": [
       "torch.Size([2])"
      ]
     },
     "execution_count": 8,
     "metadata": {},
     "output_type": "execute_result"
    }
   ],
   "source": [
    "vector.shape"
   ]
  },
  {
   "cell_type": "code",
   "execution_count": 14,
   "id": "34794756",
   "metadata": {},
   "outputs": [
    {
     "data": {
      "text/plain": [
       "tensor([[ 7,  8],\n",
       "        [ 9, 10]])"
      ]
     },
     "execution_count": 14,
     "metadata": {},
     "output_type": "execute_result"
    }
   ],
   "source": [
    "A = torch.tensor([[7, 8], \n",
    "                       [9, 10]])\n",
    "A"
   ]
  },
  {
   "cell_type": "code",
   "execution_count": 15,
   "id": "92041a7e",
   "metadata": {},
   "outputs": [
    {
     "data": {
      "text/plain": [
       "2"
      ]
     },
     "execution_count": 15,
     "metadata": {},
     "output_type": "execute_result"
    }
   ],
   "source": [
    "A.ndim"
   ]
  },
  {
   "cell_type": "code",
   "execution_count": 16,
   "id": "410f6424",
   "metadata": {},
   "outputs": [
    {
     "data": {
      "text/plain": [
       "torch.Size([2, 2])"
      ]
     },
     "execution_count": 16,
     "metadata": {},
     "output_type": "execute_result"
    }
   ],
   "source": [
    "A.shape"
   ]
  },
  {
   "cell_type": "code",
   "execution_count": 17,
   "id": "6a8115f8",
   "metadata": {},
   "outputs": [
    {
     "data": {
      "text/plain": [
       "3"
      ]
     },
     "execution_count": 17,
     "metadata": {},
     "output_type": "execute_result"
    }
   ],
   "source": [
    "T = torch.tensor([[[1, 2, 3], \n",
    "                   [3, 6, 9], \n",
    "                   [2, 4, 5]]])\n",
    "T.ndim"
   ]
  },
  {
   "cell_type": "code",
   "execution_count": 18,
   "id": "69cf32b6",
   "metadata": {},
   "outputs": [
    {
     "data": {
      "text/plain": [
       "torch.Size([1, 3, 3])"
      ]
     },
     "execution_count": 18,
     "metadata": {},
     "output_type": "execute_result"
    }
   ],
   "source": [
    "T.shape"
   ]
  },
  {
   "cell_type": "code",
   "execution_count": 19,
   "id": "7d027190",
   "metadata": {},
   "outputs": [
    {
     "data": {
      "text/plain": [
       "(tensor([[0.1083, 0.1840, 0.5514],\n",
       "         [0.2550, 0.1402, 0.5912]]),\n",
       " torch.float32)"
      ]
     },
     "execution_count": 19,
     "metadata": {},
     "output_type": "execute_result"
    }
   ],
   "source": [
    "# create a random tensro of size (3, 4)\n",
    "random_tensor = torch.rand(2, 3)\n",
    "random_tensor, random_tensor.dtype"
   ]
  },
  {
   "cell_type": "code",
   "execution_count": 20,
   "id": "4b581e3b",
   "metadata": {},
   "outputs": [],
   "source": [
    "random_image_size_tensor = torch.rand(size=(224, 224, 3))"
   ]
  },
  {
   "cell_type": "code",
   "execution_count": 21,
   "id": "b1433d98",
   "metadata": {},
   "outputs": [
    {
     "data": {
      "text/plain": [
       "(tensor([[0., 0., 0., 0.],\n",
       "         [0., 0., 0., 0.],\n",
       "         [0., 0., 0., 0.]]),\n",
       " torch.float32)"
      ]
     },
     "execution_count": 21,
     "metadata": {},
     "output_type": "execute_result"
    }
   ],
   "source": [
    "# tensor of zeros \n",
    "zeros = torch.zeros(size=(3, 4))\n",
    "zeros, zeros.dtype"
   ]
  },
  {
   "cell_type": "code",
   "execution_count": 23,
   "id": "ec8fcff5",
   "metadata": {},
   "outputs": [
    {
     "data": {
      "text/plain": [
       "tensor([0, 1, 2, 3, 4, 5, 6, 7, 8, 9])"
      ]
     },
     "execution_count": 23,
     "metadata": {},
     "output_type": "execute_result"
    }
   ],
   "source": [
    "# arange in Pytorch \n",
    "zero_to_ten = torch.arange(0, 10)\n",
    "zero_to_ten"
   ]
  },
  {
   "cell_type": "code",
   "execution_count": 24,
   "id": "1678e841",
   "metadata": {},
   "outputs": [
    {
     "data": {
      "text/plain": [
       "(torch.Size([3]), torch.float32)"
      ]
     },
     "execution_count": 24,
     "metadata": {},
     "output_type": "execute_result"
    }
   ],
   "source": [
    "# tensor dtyoes \n",
    "float_32_tensor = torch.tensor([3.0, 6.0, 9.0], \n",
    "                               dtype=None, \n",
    "                               device=None, \n",
    "                               requires_grad=False)\n",
    "float_32_tensor.shape, float_32_tensor.dtype"
   ]
  },
  {
   "cell_type": "code",
   "execution_count": 35,
   "id": "6bc0a20a",
   "metadata": {},
   "outputs": [
    {
     "data": {
      "text/plain": [
       "tensor([10, 20, 30])"
      ]
     },
     "execution_count": 35,
     "metadata": {},
     "output_type": "execute_result"
    }
   ],
   "source": [
    "# use torch function to multiply \n",
    "t = torch.tensor([1, 2, 3])\n",
    "torch.multiply(t, 10)"
   ]
  },
  {
   "cell_type": "code",
   "execution_count": 30,
   "id": "d3e62874",
   "metadata": {},
   "outputs": [
    {
     "name": "stdout",
     "output_type": "stream",
     "text": [
      "tensor([1, 4, 9])\n",
      "tensor(14)\n",
      "tensor(14)\n"
     ]
    }
   ],
   "source": [
    "# element-wise mult\n",
    "print(t * t)\n",
    "# vector-multiplication\n",
    "print(torch.matmul(t, t))\n",
    "# vector-multiplication \n",
    "print(t @ t)\n",
    " "
   ]
  },
  {
   "cell_type": "code",
   "execution_count": 41,
   "id": "8ec28ca2",
   "metadata": {},
   "outputs": [
    {
     "name": "stdout",
     "output_type": "stream",
     "text": [
      "elapsed time is: 0.0012700839999979507\n"
     ]
    }
   ],
   "source": [
    "# matmul faster? \n",
    "import time\n",
    "start_time = time.perf_counter()\n",
    "value = 0 \n",
    "for i in range(len(t)):\n",
    "    value += t[i] * t[i]\n",
    "value\n",
    "end_time = time.perf_counter()\n",
    "elapsed_time = end_time - start_time \n",
    "print(f\"elapsed time is: {elapsed_time}\")"
   ]
  },
  {
   "cell_type": "code",
   "execution_count": 42,
   "id": "10acd181",
   "metadata": {},
   "outputs": [
    {
     "name": "stdout",
     "output_type": "stream",
     "text": [
      "elapsed time is: 0.00021220899998297682\n"
     ]
    }
   ],
   "source": [
    "import time\n",
    "start_time = time.perf_counter()\n",
    "value = t @ t\n",
    "end_time = time.perf_counter()\n",
    "elapsed_time = end_time - start_time \n",
    "print(f\"elapsed time is: {elapsed_time}\")"
   ]
  },
  {
   "cell_type": "code",
   "execution_count": 43,
   "id": "82355c17",
   "metadata": {},
   "outputs": [
    {
     "name": "stdout",
     "output_type": "stream",
     "text": [
      "elapsed time is: 0.0001752079999732814\n"
     ]
    }
   ],
   "source": [
    "import time\n",
    "start_time = time.perf_counter()\n",
    "value = torch.matmul(t, t)\n",
    "end_time = time.perf_counter()\n",
    "elapsed_time = end_time - start_time \n",
    "print(f\"elapsed time is: {elapsed_time}\")"
   ]
  },
  {
   "cell_type": "code",
   "execution_count": 45,
   "id": "b704d683",
   "metadata": {},
   "outputs": [
    {
     "data": {
      "text/plain": [
       "tensor([[ 23.,  47.,  35.],\n",
       "        [ 53., 103.,  81.],\n",
       "        [ 83., 159., 127.]])"
      ]
     },
     "execution_count": 45,
     "metadata": {},
     "output_type": "execute_result"
    }
   ],
   "source": [
    "# transpose \n",
    "A = torch.tensor([[1, 2], \n",
    "                  [3, 4], \n",
    "                  [5, 6]], dtype=torch.float32)\n",
    "B = torch.tensor([[7, 8], \n",
    "                  [9, 19], \n",
    "                  [11, 12]], dtype=torch.float32)\n",
    "\n",
    "torch.matmul(A, B.T)"
   ]
  },
  {
   "cell_type": "code",
   "execution_count": 46,
   "id": "f7d9efc0",
   "metadata": {},
   "outputs": [
    {
     "data": {
      "text/plain": [
       "tensor([[ 23.,  47.,  35.],\n",
       "        [ 53., 103.,  81.],\n",
       "        [ 83., 159., 127.]])"
      ]
     },
     "execution_count": 46,
     "metadata": {},
     "output_type": "execute_result"
    }
   ],
   "source": [
    "# faster to type \n",
    "torch.mm(A, B.T)"
   ]
  },
  {
   "cell_type": "markdown",
   "id": "9c92998f",
   "metadata": {},
   "source": [
    "The torch `torch.nn.Linear()` module implements a feed-forward layer or fully-connected layer\n",
    "\n",
    "$$\\mathbf{y} = \\mathbf{x}W^T + \\mathbf{b}$$ \n",
    "\n",
    "where $\\mathbf{x}$ is the input layer, $W$ is the weights matrix, and $\\mathbf{b}$ is a bias term, and $\\mathbf{y}$ is the \n",
    "output. "
   ]
  },
  {
   "cell_type": "code",
   "execution_count": 47,
   "id": "26c08b73",
   "metadata": {},
   "outputs": [
    {
     "name": "stdout",
     "output_type": "stream",
     "text": [
      "Inner shape is torch.Size([3, 2])\n",
      "\n",
      "Out shape is torch.Size([3, 6])\n",
      "\n",
      "tensor([[ 0.9888,  0.3117,  0.3418, -0.0555,  0.5656,  0.4033],\n",
      "        [ 0.5818,  1.2026,  0.7456,  0.9326, -1.0080, -0.5535],\n",
      "        [ 0.4686, -0.4747,  0.1364, -0.6240,  1.3291,  0.4219]],\n",
      "       grad_fn=<AddmmBackward0>)\n"
     ]
    }
   ],
   "source": [
    "torch.manual_seed(42)\n",
    "# matrix multiplication \n",
    "linear = torch.nn.Linear(in_features=2,     # in_features = matches inner dim of input\n",
    "                         out_features=6)    # out_features = outer value \n",
    "x = torch.randn(3, 2)              # 3 X 2 \n",
    "output = linear(x)                 # (3 x 2) x (2 x 6) \n",
    "print(f\"Inner shape is {x.shape}\\n\")\n",
    "print(f\"Out shape is {output.shape}\\n\")\n",
    "print(output) \n",
    "\n",
    "\n",
    "# What's happening above \n",
    "W = linear.weight   # shape: [6, 2]\n",
    "b = linear.bias     # shape: [6]\n",
    "manual_output = x @ W.T + b "
   ]
  },
  {
   "cell_type": "markdown",
   "id": "615e317b",
   "metadata": {},
   "source": [
    "### Multiple Observations in Statistical Learning\n",
    "\n",
    "$$\n",
    "\\mathbf{y} = \\mathbf{X} \\boldsymbol{\\beta} + \\boldsymbol{\\varepsilon}\n",
    "$$\n",
    "\n",
    "Where:\n",
    "\n",
    "- $ \\mathbf{X} \\in \\mathbb{R}^{n \\times p} $: Design matrix (n samples, p features)  \n",
    "- $ \\boldsymbol{\\beta} \\in \\mathbb{R}^{p} $ or $ \\mathbb{R}^{p \\times 1} $: Coefficient vector or matrix  \n",
    "- $ \\mathbf{y} \\in \\mathbb{R}^{n} $: Response vector  \n",
    "\n",
    "That is, you're multiplying a design matrix $ \\mathbf{X} $ (rows = examples, columns = features) by a weight vector/matrix $ \\boldsymbol{\\beta} $.\n",
    "\n",
    "---\n",
    "\n",
    "### Linear Layer in PyTorch\n",
    "\n",
    "PyTorch’s `nn.Linear(in_features, out_features)` defines a layer that applies the transformation:\n",
    "\n",
    "$$\n",
    "\\mathbf{y} = \\mathbf{x} \\mathbf{W}^\\top + \\mathbf{b}\n",
    "$$\n",
    "\n",
    "Where:\n",
    "\n",
    "- $ \\mathbf{x} \\in \\mathbb{R}^{n \\times \\text{in\\_features}} $: Input matrix  \n",
    "- $ \\mathbf{W} \\in \\mathbb{R}^{\\text{out\\_features} \\times \\text{in\\_features}} $: Weight matrix  \n",
    "- $ \\mathbf{W}^\\top \\in \\mathbb{R}^{\\text{in\\_features} \\times \\text{out\\_features}} $: Transposed weight matrix  \n",
    "- So, $ \\mathbf{x} \\mathbf{W}^\\top \\in \\mathbb{R}^{n \\times \\text{out\\_features}} $\n",
    "\n",
    "This ensures that the output shape matches the expected behavior of `nn.Linear`: input shape $(n, \\text{in\\_features})$ gives output shape $(n, \\text{out\\_features})$.\n",
    "\n",
    "---\n",
    "\n",
    "### Why the Transpose?\n",
    "\n",
    "It’s mostly a convention in implementation:\n",
    "\n",
    "- PyTorch stores $ \\mathbf{W} $ as shape $(\\text{out\\_features}, \\text{in\\_features})$ for efficiency and compatibility with backend libraries (e.g., C++/CUDA/BLAS).\n",
    "- But it performs the multiplication as $ \\mathbf{x} \\mathbf{W}^\\top $, which aligns with standard linear algebra:\n",
    "\n",
    "$$\n",
    "\\mathbf{x} \\in \\mathbb{R}^{n \\times p}, \\quad \\mathbf{W}^\\top \\in \\mathbb{R}^{p \\times d}, \\quad \\Rightarrow \\quad \\mathbf{y} \\in \\mathbb{R}^{n \\times d}\n",
    "$$\n",
    "\n",
    "So while it may look like PyTorch is transposing the weights, it's simply a matter of internal layout for performance and convention.\n",
    "\n",
    "#### Statistical View (ISLR-style)\n",
    "\n",
    "Let:\n",
    "\n",
    "$$\n",
    "\\mathbf{x}_i = [x_1,\\ x_2] = [2.0,\\ 3.0]\n",
    "$$\n",
    "\n",
    "$$\n",
    "\\boldsymbol{\\beta} = \\begin{bmatrix} \\beta_1 \\\\ \\beta_2 \\end{bmatrix} = \\begin{bmatrix} 0.5 \\\\ -1.0 \\end{bmatrix}\n",
    "$$\n",
    "\n",
    "Then:\n",
    "\n",
    "$$\n",
    "y_i = \\beta_1 x_1 + \\beta_2 x_2 = 0.5 \\cdot 2.0 + (-1.0) \\cdot 3.0 = 1.0 - 3.0 = -2.0\n",
    "$$\n",
    "\n",
    "---\n",
    "\n",
    "#### PyTorch View\n",
    "\n",
    "PyTorch applies the transformation:\n",
    "\n",
    "$$\n",
    "\\mathbf{y} = \\mathbf{x} \\mathbf{W}^\\top + \\mathbf{b}\n",
    "$$\n",
    "\n",
    "Assuming no bias ($\\mathbf{b} = 0$), and with:\n",
    "\n",
    "$$\n",
    "\\mathbf{x} = \\begin{bmatrix} 2.0 & 3.0 \\end{bmatrix}, \\quad\n",
    "\\mathbf{W} = \\begin{bmatrix} 0.5 & -1.0 \\end{bmatrix}\n",
    "$$\n",
    "\n",
    "Then:\n",
    "\n",
    "$$\n",
    "\\mathbf{W}^\\top = \\begin{bmatrix} 0.5 \\\\ -1.0 \\end{bmatrix}\n",
    "$$\n",
    "\n",
    "and:\n",
    "\n",
    "$$\n",
    "\\mathbf{x} \\mathbf{W}^\\top =\n",
    "\\begin{bmatrix} 2.0 & 3.0 \\end{bmatrix}\n",
    "\\begin{bmatrix} 0.5 \\\\ -1.0 \\end{bmatrix}\n",
    "= (2.0)(0.5) + (3.0)(-1.0) = -2.0\n",
    "$$\n"
   ]
  },
  {
   "cell_type": "markdown",
   "id": "7ce4473f",
   "metadata": {},
   "source": []
  },
  {
   "cell_type": "code",
   "execution_count": null,
   "id": "0624a7ed",
   "metadata": {},
   "outputs": [],
   "source": []
  },
  {
   "cell_type": "code",
   "execution_count": null,
   "id": "76a4887b",
   "metadata": {},
   "outputs": [],
   "source": [
    "# "
   ]
  },
  {
   "cell_type": "code",
   "execution_count": null,
   "id": "af327983",
   "metadata": {},
   "outputs": [],
   "source": []
  },
  {
   "cell_type": "code",
   "execution_count": null,
   "id": "41639c67",
   "metadata": {},
   "outputs": [],
   "source": []
  },
  {
   "cell_type": "markdown",
   "id": "aad869bd",
   "metadata": {},
   "source": []
  }
 ],
 "metadata": {
  "kernelspec": {
   "display_name": "Python 3",
   "language": "python",
   "name": "python3"
  },
  "language_info": {
   "codemirror_mode": {
    "name": "ipython",
    "version": 3
   },
   "file_extension": ".py",
   "mimetype": "text/x-python",
   "name": "python",
   "nbconvert_exporter": "python",
   "pygments_lexer": "ipython3",
   "version": "3.9.19"
  }
 },
 "nbformat": 4,
 "nbformat_minor": 5
}
